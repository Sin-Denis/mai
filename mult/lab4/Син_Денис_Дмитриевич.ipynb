{
 "nbformat": 4,
 "nbformat_minor": 0,
 "metadata": {
  "kernelspec": {
   "display_name": "Python 3",
   "language": "python",
   "name": "python3"
  },
  "language_info": {
   "codemirror_mode": {
    "name": "ipython",
    "version": 3
   },
   "file_extension": ".py",
   "mimetype": "text/x-python",
   "name": "python",
   "nbconvert_exporter": "python",
   "pygments_lexer": "ipython3",
   "version": "3.8.8"
  },
  "colab": {
   "name": "Копия блокнота \"Lab_4.ipynb\"",
   "provenance": [
    {
     "file_id": "1WCapkHkgl7O0i0w4R9kLp0Edmm8TTss7",
     "timestamp": 1638992531231
    }
   ],
   "collapsed_sections": [],
   "toc_visible": true
  }
 },
 "cells": [
  {
   "cell_type": "code",
   "metadata": {
    "id": "boDqXqpgXgee"
   },
   "source": [
    "import matplotlib.pyplot as plt\n",
    "import seaborn as sns\n",
    "import pandas as pd\n",
    "import numpy as np\n",
    "import warnings\n",
    "%matplotlib inline"
   ],
   "execution_count": 21,
   "outputs": []
  },
  {
   "cell_type": "markdown",
   "metadata": {
    "id": "Zl93IzA9O8sJ"
   },
   "source": [
    "## Imports"
   ]
  },
  {
   "cell_type": "markdown",
   "metadata": {
    "id": "Y5IL_FUGP7YX"
   },
   "source": [
    "## Данные\n",
    "\n",
    "Датасет содержит характеристики квартир в калифорнии и цены на них"
   ]
  },
  {
   "cell_type": "code",
   "metadata": {
    "colab": {
     "base_uri": "https://localhost:8080/",
     "height": 206
    },
    "id": "ilDSEnlqXgej",
    "executionInfo": {
     "status": "ok",
     "timestamp": 1635947563577,
     "user_tz": -180,
     "elapsed": 10,
     "user": {
      "displayName": "Александр Ефимов",
      "photoUrl": "https://lh3.googleusercontent.com/a-/AOh14GiYxzNH9cS4CN3d8zvmdypKPc3dEUQqfVzCx-1Jkw=s64",
      "userId": "06033327314451293349"
     }
    },
    "outputId": "6e652650-0210-41a3-ac12-d234754bc90d"
   },
   "source": [
    "csv_path = 'housing.csv'\n",
    "data = pd.read_csv(csv_path)\n",
    "data"
   ],
   "execution_count": 22,
   "outputs": [
    {
     "data": {
      "text/plain": "       longitude  latitude  housing_median_age  total_rooms  total_bedrooms  \\\n0        -122.23     37.88                41.0        880.0           129.0   \n1        -122.22     37.86                21.0       7099.0          1106.0   \n2        -122.24     37.85                52.0       1467.0           190.0   \n3        -122.25     37.85                52.0       1274.0           235.0   \n4        -122.25     37.85                52.0       1627.0           280.0   \n...          ...       ...                 ...          ...             ...   \n20635    -121.09     39.48                25.0       1665.0           374.0   \n20636    -121.21     39.49                18.0        697.0           150.0   \n20637    -121.22     39.43                17.0       2254.0           485.0   \n20638    -121.32     39.43                18.0       1860.0           409.0   \n20639    -121.24     39.37                16.0       2785.0           616.0   \n\n       population  households  median_income  median_house_value  \\\n0           322.0       126.0         8.3252            452600.0   \n1          2401.0      1138.0         8.3014            358500.0   \n2           496.0       177.0         7.2574            352100.0   \n3           558.0       219.0         5.6431            341300.0   \n4           565.0       259.0         3.8462            342200.0   \n...           ...         ...            ...                 ...   \n20635       845.0       330.0         1.5603             78100.0   \n20636       356.0       114.0         2.5568             77100.0   \n20637      1007.0       433.0         1.7000             92300.0   \n20638       741.0       349.0         1.8672             84700.0   \n20639      1387.0       530.0         2.3886             89400.0   \n\n      ocean_proximity  \n0            NEAR BAY  \n1            NEAR BAY  \n2            NEAR BAY  \n3            NEAR BAY  \n4            NEAR BAY  \n...               ...  \n20635          INLAND  \n20636          INLAND  \n20637          INLAND  \n20638          INLAND  \n20639          INLAND  \n\n[20640 rows x 10 columns]",
      "text/html": "<div>\n<style scoped>\n    .dataframe tbody tr th:only-of-type {\n        vertical-align: middle;\n    }\n\n    .dataframe tbody tr th {\n        vertical-align: top;\n    }\n\n    .dataframe thead th {\n        text-align: right;\n    }\n</style>\n<table border=\"1\" class=\"dataframe\">\n  <thead>\n    <tr style=\"text-align: right;\">\n      <th></th>\n      <th>longitude</th>\n      <th>latitude</th>\n      <th>housing_median_age</th>\n      <th>total_rooms</th>\n      <th>total_bedrooms</th>\n      <th>population</th>\n      <th>households</th>\n      <th>median_income</th>\n      <th>median_house_value</th>\n      <th>ocean_proximity</th>\n    </tr>\n  </thead>\n  <tbody>\n    <tr>\n      <th>0</th>\n      <td>-122.23</td>\n      <td>37.88</td>\n      <td>41.0</td>\n      <td>880.0</td>\n      <td>129.0</td>\n      <td>322.0</td>\n      <td>126.0</td>\n      <td>8.3252</td>\n      <td>452600.0</td>\n      <td>NEAR BAY</td>\n    </tr>\n    <tr>\n      <th>1</th>\n      <td>-122.22</td>\n      <td>37.86</td>\n      <td>21.0</td>\n      <td>7099.0</td>\n      <td>1106.0</td>\n      <td>2401.0</td>\n      <td>1138.0</td>\n      <td>8.3014</td>\n      <td>358500.0</td>\n      <td>NEAR BAY</td>\n    </tr>\n    <tr>\n      <th>2</th>\n      <td>-122.24</td>\n      <td>37.85</td>\n      <td>52.0</td>\n      <td>1467.0</td>\n      <td>190.0</td>\n      <td>496.0</td>\n      <td>177.0</td>\n      <td>7.2574</td>\n      <td>352100.0</td>\n      <td>NEAR BAY</td>\n    </tr>\n    <tr>\n      <th>3</th>\n      <td>-122.25</td>\n      <td>37.85</td>\n      <td>52.0</td>\n      <td>1274.0</td>\n      <td>235.0</td>\n      <td>558.0</td>\n      <td>219.0</td>\n      <td>5.6431</td>\n      <td>341300.0</td>\n      <td>NEAR BAY</td>\n    </tr>\n    <tr>\n      <th>4</th>\n      <td>-122.25</td>\n      <td>37.85</td>\n      <td>52.0</td>\n      <td>1627.0</td>\n      <td>280.0</td>\n      <td>565.0</td>\n      <td>259.0</td>\n      <td>3.8462</td>\n      <td>342200.0</td>\n      <td>NEAR BAY</td>\n    </tr>\n    <tr>\n      <th>...</th>\n      <td>...</td>\n      <td>...</td>\n      <td>...</td>\n      <td>...</td>\n      <td>...</td>\n      <td>...</td>\n      <td>...</td>\n      <td>...</td>\n      <td>...</td>\n      <td>...</td>\n    </tr>\n    <tr>\n      <th>20635</th>\n      <td>-121.09</td>\n      <td>39.48</td>\n      <td>25.0</td>\n      <td>1665.0</td>\n      <td>374.0</td>\n      <td>845.0</td>\n      <td>330.0</td>\n      <td>1.5603</td>\n      <td>78100.0</td>\n      <td>INLAND</td>\n    </tr>\n    <tr>\n      <th>20636</th>\n      <td>-121.21</td>\n      <td>39.49</td>\n      <td>18.0</td>\n      <td>697.0</td>\n      <td>150.0</td>\n      <td>356.0</td>\n      <td>114.0</td>\n      <td>2.5568</td>\n      <td>77100.0</td>\n      <td>INLAND</td>\n    </tr>\n    <tr>\n      <th>20637</th>\n      <td>-121.22</td>\n      <td>39.43</td>\n      <td>17.0</td>\n      <td>2254.0</td>\n      <td>485.0</td>\n      <td>1007.0</td>\n      <td>433.0</td>\n      <td>1.7000</td>\n      <td>92300.0</td>\n      <td>INLAND</td>\n    </tr>\n    <tr>\n      <th>20638</th>\n      <td>-121.32</td>\n      <td>39.43</td>\n      <td>18.0</td>\n      <td>1860.0</td>\n      <td>409.0</td>\n      <td>741.0</td>\n      <td>349.0</td>\n      <td>1.8672</td>\n      <td>84700.0</td>\n      <td>INLAND</td>\n    </tr>\n    <tr>\n      <th>20639</th>\n      <td>-121.24</td>\n      <td>39.37</td>\n      <td>16.0</td>\n      <td>2785.0</td>\n      <td>616.0</td>\n      <td>1387.0</td>\n      <td>530.0</td>\n      <td>2.3886</td>\n      <td>89400.0</td>\n      <td>INLAND</td>\n    </tr>\n  </tbody>\n</table>\n<p>20640 rows × 10 columns</p>\n</div>"
     },
     "execution_count": 22,
     "metadata": {},
     "output_type": "execute_result"
    }
   ]
  },
  {
   "cell_type": "code",
   "metadata": {
    "colab": {
     "base_uri": "https://localhost:8080/"
    },
    "id": "_-B_HH4HXgek",
    "executionInfo": {
     "status": "ok",
     "timestamp": 1635947563973,
     "user_tz": -180,
     "elapsed": 13,
     "user": {
      "displayName": "Александр Ефимов",
      "photoUrl": "https://lh3.googleusercontent.com/a-/AOh14GiYxzNH9cS4CN3d8zvmdypKPc3dEUQqfVzCx-1Jkw=s64",
      "userId": "06033327314451293349"
     }
    },
    "outputId": "93394561-4a0e-4369-a7cc-c58210be0986"
   },
   "source": [
    "print(\"Dataframe shape:\", data.shape)\n",
    "print(\"Dataframe columns:\\n\", list(data.columns))"
   ],
   "execution_count": 23,
   "outputs": [
    {
     "name": "stdout",
     "output_type": "stream",
     "text": [
      "Dataframe shape: (20640, 10)\n",
      "Dataframe columns:\n",
      " ['longitude', 'latitude', 'housing_median_age', 'total_rooms', 'total_bedrooms', 'population', 'households', 'median_income', 'median_house_value', 'ocean_proximity']\n"
     ]
    }
   ]
  },
  {
   "cell_type": "code",
   "metadata": {
    "colab": {
     "base_uri": "https://localhost:8080/"
    },
    "id": "q7DePR8nQWCc",
    "executionInfo": {
     "status": "ok",
     "timestamp": 1635947563975,
     "user_tz": -180,
     "elapsed": 10,
     "user": {
      "displayName": "Александр Ефимов",
      "photoUrl": "https://lh3.googleusercontent.com/a-/AOh14GiYxzNH9cS4CN3d8zvmdypKPc3dEUQqfVzCx-1Jkw=s64",
      "userId": "06033327314451293349"
     }
    },
    "outputId": "cb159e95-5ec3-4d4f-81a5-dfc66e906763"
   },
   "source": [
    "data.isnull().sum()"
   ],
   "execution_count": 24,
   "outputs": [
    {
     "data": {
      "text/plain": "longitude               0\nlatitude                0\nhousing_median_age      0\ntotal_rooms             0\ntotal_bedrooms        207\npopulation              0\nhouseholds              0\nmedian_income           0\nmedian_house_value      0\nocean_proximity         0\ndtype: int64"
     },
     "execution_count": 24,
     "metadata": {},
     "output_type": "execute_result"
    }
   ]
  },
  {
   "cell_type": "code",
   "metadata": {
    "colab": {
     "base_uri": "https://localhost:8080/",
     "height": 112
    },
    "id": "2GLPxamdS30b",
    "executionInfo": {
     "status": "ok",
     "timestamp": 1635947564277,
     "user_tz": -180,
     "elapsed": 8,
     "user": {
      "displayName": "Александр Ефимов",
      "photoUrl": "https://lh3.googleusercontent.com/a-/AOh14GiYxzNH9cS4CN3d8zvmdypKPc3dEUQqfVzCx-1Jkw=s64",
      "userId": "06033327314451293349"
     }
    },
    "outputId": "0f18ccdb-f1a0-433c-be08-5c698e148e1c"
   },
   "source": [
    "data.agg(['min', 'max'])"
   ],
   "execution_count": 25,
   "outputs": [
    {
     "data": {
      "text/plain": "     longitude  latitude  housing_median_age  total_rooms  total_bedrooms  \\\nmin    -124.35     32.54                 1.0          2.0             1.0   \nmax    -114.31     41.95                52.0      39320.0          6445.0   \n\n     population  households  median_income  median_house_value ocean_proximity  \nmin         3.0         1.0         0.4999             14999.0       <1H OCEAN  \nmax     35682.0      6082.0        15.0001            500001.0      NEAR OCEAN  ",
      "text/html": "<div>\n<style scoped>\n    .dataframe tbody tr th:only-of-type {\n        vertical-align: middle;\n    }\n\n    .dataframe tbody tr th {\n        vertical-align: top;\n    }\n\n    .dataframe thead th {\n        text-align: right;\n    }\n</style>\n<table border=\"1\" class=\"dataframe\">\n  <thead>\n    <tr style=\"text-align: right;\">\n      <th></th>\n      <th>longitude</th>\n      <th>latitude</th>\n      <th>housing_median_age</th>\n      <th>total_rooms</th>\n      <th>total_bedrooms</th>\n      <th>population</th>\n      <th>households</th>\n      <th>median_income</th>\n      <th>median_house_value</th>\n      <th>ocean_proximity</th>\n    </tr>\n  </thead>\n  <tbody>\n    <tr>\n      <th>min</th>\n      <td>-124.35</td>\n      <td>32.54</td>\n      <td>1.0</td>\n      <td>2.0</td>\n      <td>1.0</td>\n      <td>3.0</td>\n      <td>1.0</td>\n      <td>0.4999</td>\n      <td>14999.0</td>\n      <td>&lt;1H OCEAN</td>\n    </tr>\n    <tr>\n      <th>max</th>\n      <td>-114.31</td>\n      <td>41.95</td>\n      <td>52.0</td>\n      <td>39320.0</td>\n      <td>6445.0</td>\n      <td>35682.0</td>\n      <td>6082.0</td>\n      <td>15.0001</td>\n      <td>500001.0</td>\n      <td>NEAR OCEAN</td>\n    </tr>\n  </tbody>\n</table>\n</div>"
     },
     "execution_count": 25,
     "metadata": {},
     "output_type": "execute_result"
    }
   ]
  },
  {
   "cell_type": "markdown",
   "metadata": {
    "id": "AZkt6ZyoSqwd"
   },
   "source": [
    "У входных данных есть пустые значения в колонке total_bedrooms, также необходимо будет нормализовать данные"
   ]
  },
  {
   "cell_type": "markdown",
   "metadata": {
    "id": "7wrnADKgVjmZ"
   },
   "source": [
    "Рассмотрим корреляцию между особенностями и исключим те, которые имеют коэффициенты больше 0.5 (по модулю):"
   ]
  },
  {
   "cell_type": "code",
   "metadata": {
    "colab": {
     "base_uri": "https://localhost:8080/",
     "height": 533
    },
    "id": "aIr7MUtKVoT-",
    "executionInfo": {
     "status": "ok",
     "timestamp": 1635947566860,
     "user_tz": -180,
     "elapsed": 1408,
     "user": {
      "displayName": "Александр Ефимов",
      "photoUrl": "https://lh3.googleusercontent.com/a-/AOh14GiYxzNH9cS4CN3d8zvmdypKPc3dEUQqfVzCx-1Jkw=s64",
      "userId": "06033327314451293349"
     }
    },
    "outputId": "63a40707-7515-473d-a6ac-17ca1d63a39d"
   },
   "source": [
    "plt.subplots(figsize=(10, 7))\n",
    "sns.heatmap(data.iloc[:, :-1].corr().abs(), annot=True)"
   ],
   "execution_count": 26,
   "outputs": [
    {
     "data": {
      "text/plain": "<AxesSubplot:>"
     },
     "execution_count": 26,
     "metadata": {},
     "output_type": "execute_result"
    },
    {
     "data": {
      "text/plain": "<Figure size 720x504 with 2 Axes>",
      "image/png": "[encoded data removed]"
     },
     "metadata": {
      "needs_background": "light"
     },
     "output_type": "display_data"
    }
   ]
  },
  {
   "cell_type": "markdown",
   "metadata": {
    "id": "q-JXZsA1WC21"
   },
   "source": [
    "На графике видно, что пары (0, 2), (0, 7), (0, 8), (1, 2), (2, 8) (5, 6), \n",
    "(7, 10) имеют коэффициенты больше 0.5. Представляя пары в виде графа, исключим\n",
    "подряд те вершины, которые имеют наибольшее количество граней (если\n",
    "у двух вершин количество граней равны, то берем вершины с суммарной \n",
    "корреляцией, близкой к 0). Тогда исключаем особенности: `[\"fixed acidity\",\n",
    "\"citric acid\", \"total sulfur dioxide\", \"density\"]`.\n"
   ]
  },
  {
   "cell_type": "code",
   "metadata": {
    "id": "76tuwxUPXBb6"
   },
   "source": [
    "data = data.drop(\n",
    "    columns=[\"latitude\", \"total_bedrooms\", \"households\", \"median_house_value\", 'population']\n",
    ")"
   ],
   "execution_count": 27,
   "outputs": []
  },
  {
   "cell_type": "code",
   "execution_count": 28,
   "outputs": [
    {
     "data": {
      "text/plain": "       longitude  housing_median_age  total_rooms  median_income  \\\n0        -122.23                41.0        880.0         8.3252   \n1        -122.22                21.0       7099.0         8.3014   \n2        -122.24                52.0       1467.0         7.2574   \n3        -122.25                52.0       1274.0         5.6431   \n4        -122.25                52.0       1627.0         3.8462   \n...          ...                 ...          ...            ...   \n20635    -121.09                25.0       1665.0         1.5603   \n20636    -121.21                18.0        697.0         2.5568   \n20637    -121.22                17.0       2254.0         1.7000   \n20638    -121.32                18.0       1860.0         1.8672   \n20639    -121.24                16.0       2785.0         2.3886   \n\n      ocean_proximity  \n0            NEAR BAY  \n1            NEAR BAY  \n2            NEAR BAY  \n3            NEAR BAY  \n4            NEAR BAY  \n...               ...  \n20635          INLAND  \n20636          INLAND  \n20637          INLAND  \n20638          INLAND  \n20639          INLAND  \n\n[20640 rows x 5 columns]",
      "text/html": "<div>\n<style scoped>\n    .dataframe tbody tr th:only-of-type {\n        vertical-align: middle;\n    }\n\n    .dataframe tbody tr th {\n        vertical-align: top;\n    }\n\n    .dataframe thead th {\n        text-align: right;\n    }\n</style>\n<table border=\"1\" class=\"dataframe\">\n  <thead>\n    <tr style=\"text-align: right;\">\n      <th></th>\n      <th>longitude</th>\n      <th>housing_median_age</th>\n      <th>total_rooms</th>\n      <th>median_income</th>\n      <th>ocean_proximity</th>\n    </tr>\n  </thead>\n  <tbody>\n    <tr>\n      <th>0</th>\n      <td>-122.23</td>\n      <td>41.0</td>\n      <td>880.0</td>\n      <td>8.3252</td>\n      <td>NEAR BAY</td>\n    </tr>\n    <tr>\n      <th>1</th>\n      <td>-122.22</td>\n      <td>21.0</td>\n      <td>7099.0</td>\n      <td>8.3014</td>\n      <td>NEAR BAY</td>\n    </tr>\n    <tr>\n      <th>2</th>\n      <td>-122.24</td>\n      <td>52.0</td>\n      <td>1467.0</td>\n      <td>7.2574</td>\n      <td>NEAR BAY</td>\n    </tr>\n    <tr>\n      <th>3</th>\n      <td>-122.25</td>\n      <td>52.0</td>\n      <td>1274.0</td>\n      <td>5.6431</td>\n      <td>NEAR BAY</td>\n    </tr>\n    <tr>\n      <th>4</th>\n      <td>-122.25</td>\n      <td>52.0</td>\n      <td>1627.0</td>\n      <td>3.8462</td>\n      <td>NEAR BAY</td>\n    </tr>\n    <tr>\n      <th>...</th>\n      <td>...</td>\n      <td>...</td>\n      <td>...</td>\n      <td>...</td>\n      <td>...</td>\n    </tr>\n    <tr>\n      <th>20635</th>\n      <td>-121.09</td>\n      <td>25.0</td>\n      <td>1665.0</td>\n      <td>1.5603</td>\n      <td>INLAND</td>\n    </tr>\n    <tr>\n      <th>20636</th>\n      <td>-121.21</td>\n      <td>18.0</td>\n      <td>697.0</td>\n      <td>2.5568</td>\n      <td>INLAND</td>\n    </tr>\n    <tr>\n      <th>20637</th>\n      <td>-121.22</td>\n      <td>17.0</td>\n      <td>2254.0</td>\n      <td>1.7000</td>\n      <td>INLAND</td>\n    </tr>\n    <tr>\n      <th>20638</th>\n      <td>-121.32</td>\n      <td>18.0</td>\n      <td>1860.0</td>\n      <td>1.8672</td>\n      <td>INLAND</td>\n    </tr>\n    <tr>\n      <th>20639</th>\n      <td>-121.24</td>\n      <td>16.0</td>\n      <td>2785.0</td>\n      <td>2.3886</td>\n      <td>INLAND</td>\n    </tr>\n  </tbody>\n</table>\n<p>20640 rows × 5 columns</p>\n</div>"
     },
     "execution_count": 28,
     "metadata": {},
     "output_type": "execute_result"
    }
   ],
   "source": [
    "data"
   ],
   "metadata": {
    "collapsed": false,
    "pycharm": {
     "name": "#%%\n"
    }
   }
  },
  {
   "cell_type": "code",
   "execution_count": 29,
   "outputs": [
    {
     "data": {
      "text/plain": "<AxesSubplot:>"
     },
     "execution_count": 29,
     "metadata": {},
     "output_type": "execute_result"
    },
    {
     "data": {
      "text/plain": "<Figure size 720x504 with 2 Axes>",
      "image/png": "[encoded data removed]"
     },
     "metadata": {
      "needs_background": "light"
     },
     "output_type": "display_data"
    }
   ],
   "source": [
    "plt.subplots(figsize=(10, 7))\n",
    "sns.heatmap(data.iloc[:, :-1].corr().abs(), annot=True)"
   ],
   "metadata": {
    "collapsed": false,
    "pycharm": {
     "name": "#%%\n"
    }
   }
  },
  {
   "cell_type": "markdown",
   "metadata": {
    "id": "B4LBsSpfXGuf"
   },
   "source": [
    "Для 1600 строк данных 6 классов возможно слишком много, поэтому их лучше\n",
    "сократить до двух - хороший (1) и плохой (0). Разбитие должно произойти так,\n",
    "чтобы их было максимально поровну:"
   ]
  },
  {
   "cell_type": "code",
   "metadata": {
    "colab": {
     "base_uri": "https://localhost:8080/",
     "height": 317
    },
    "id": "1kVmEkZkXLQc",
    "executionInfo": {
     "status": "ok",
     "timestamp": 1635947567218,
     "user_tz": -180,
     "elapsed": 372,
     "user": {
      "displayName": "Александр Ефимов",
      "photoUrl": "https://lh3.googleusercontent.com/a-/AOh14GiYxzNH9cS4CN3d8zvmdypKPc3dEUQqfVzCx-1Jkw=s64",
      "userId": "06033327314451293349"
     }
    },
    "outputId": "89ca84bc-5143-4b0a-b08b-7c7065dc24b2"
   },
   "source": [
    "wines[\"quality\"].plot.hist()\n",
    "wines[\"quality\"] = wines[\"quality\"].apply(lambda x : 1 if x >= 6 else 0)\n",
    "wines[\"quality\"].value_counts()"
   ],
   "execution_count": 30,
   "outputs": [
    {
     "ename": "NameError",
     "evalue": "name 'wines' is not defined",
     "output_type": "error",
     "traceback": [
      "\u001B[0;31m---------------------------------------------------------------------------\u001B[0m",
      "\u001B[0;31mNameError\u001B[0m                                 Traceback (most recent call last)",
      "\u001B[0;32m<ipython-input-30-c09c7b1ee909>\u001B[0m in \u001B[0;36m<module>\u001B[0;34m\u001B[0m\n\u001B[0;32m----> 1\u001B[0;31m \u001B[0mwines\u001B[0m\u001B[0;34m[\u001B[0m\u001B[0;34m\"quality\"\u001B[0m\u001B[0;34m]\u001B[0m\u001B[0;34m.\u001B[0m\u001B[0mplot\u001B[0m\u001B[0;34m.\u001B[0m\u001B[0mhist\u001B[0m\u001B[0;34m(\u001B[0m\u001B[0;34m)\u001B[0m\u001B[0;34m\u001B[0m\u001B[0;34m\u001B[0m\u001B[0m\n\u001B[0m\u001B[1;32m      2\u001B[0m \u001B[0mwines\u001B[0m\u001B[0;34m[\u001B[0m\u001B[0;34m\"quality\"\u001B[0m\u001B[0;34m]\u001B[0m \u001B[0;34m=\u001B[0m \u001B[0mwines\u001B[0m\u001B[0;34m[\u001B[0m\u001B[0;34m\"quality\"\u001B[0m\u001B[0;34m]\u001B[0m\u001B[0;34m.\u001B[0m\u001B[0mapply\u001B[0m\u001B[0;34m(\u001B[0m\u001B[0;32mlambda\u001B[0m \u001B[0mx\u001B[0m \u001B[0;34m:\u001B[0m \u001B[0;36m1\u001B[0m \u001B[0;32mif\u001B[0m \u001B[0mx\u001B[0m \u001B[0;34m>=\u001B[0m \u001B[0;36m6\u001B[0m \u001B[0;32melse\u001B[0m \u001B[0;36m0\u001B[0m\u001B[0;34m)\u001B[0m\u001B[0;34m\u001B[0m\u001B[0;34m\u001B[0m\u001B[0m\n\u001B[1;32m      3\u001B[0m \u001B[0mwines\u001B[0m\u001B[0;34m[\u001B[0m\u001B[0;34m\"quality\"\u001B[0m\u001B[0;34m]\u001B[0m\u001B[0;34m.\u001B[0m\u001B[0mvalue_counts\u001B[0m\u001B[0;34m(\u001B[0m\u001B[0;34m)\u001B[0m\u001B[0;34m\u001B[0m\u001B[0;34m\u001B[0m\u001B[0m\n",
      "\u001B[0;31mNameError\u001B[0m: name 'wines' is not defined"
     ]
    }
   ]
  },
  {
   "cell_type": "markdown",
   "metadata": {
    "id": "_ku0-ydchS7a"
   },
   "source": [
    "При обучении будут использоваться стандартные метрики:\n",
    "* **Precision** (точность) - количество правильно классифицированных \n",
    "  положительных предметов из выбранных для классификации:\n",
    "  $$\n",
    "    precision = \\frac{TP}{TP + FP}\n",
    "  $$\n",
    "* **Recall** (полнота) - количество правильно классифицированных \n",
    "  положительных предметов из всех возможных\n",
    "  (т.е. множество правильно и неправильно классифицированных предметов):\n",
    "  $$\n",
    "    recall = \\frac{TP}{TP + FN}\n",
    "  $$\n",
    "\n",
    "$TP$ - количество корректно классифицированных положительных предметов,\n",
    "$FP$ - количество некорректно классифицированных отрицательных предметов,\n",
    "$TP$ - количество некорректно классифицированных положительных предметов.\n",
    "\n",
    "Можно также использовать **accuracy** (количество правильно классифицированных\n",
    "предметов из всех доступных), но её точность малозначима, так как классов \n",
    "неравное количество."
   ]
  },
  {
   "cell_type": "code",
   "metadata": {
    "id": "1cYgp6mEj4_k"
   },
   "source": [
    "def calc_confusion_matrix(pred, real):\n",
    "    # y\\p  1   0\n",
    "    #   1 TP  FN\n",
    "    #   0 FP  TN\n",
    "    matrix = np.zeros((2, 2))\n",
    "    for y, p in zip(pred, real):\n",
    "        matrix[1 - y, 1 - p] += 1\n",
    "    \n",
    "    return matrix\n",
    "\n",
    "def precision(pred, real):\n",
    "    matrix = calc_confusion_matrix(pred, real)\n",
    "    if matrix[0, 0] + matrix[1, 0] == 0:\n",
    "        return 0\n",
    "    return matrix[0, 0] / (matrix[0, 0] + matrix[1, 0])\n",
    "\n",
    "def recall(pred, real):\n",
    "    matrix = calc_confusion_matrix(pred, real)\n",
    "    if matrix[0, 0] + matrix[0, 1] == 0:\n",
    "        return 0\n",
    "    return matrix[0, 0] / (matrix[0, 0] + matrix[0, 1])"
   ],
   "execution_count": null,
   "outputs": []
  },
  {
   "cell_type": "markdown",
   "metadata": {
    "id": "lyLfwZ0KhNQ_"
   },
   "source": [
    "## Модель"
   ]
  },
  {
   "cell_type": "markdown",
   "metadata": {
    "id": "TswfkUV5pcdq"
   },
   "source": [
    "Модель - логистическая регрессия и **L2** ругляризацией."
   ]
  },
  {
   "cell_type": "code",
   "metadata": {
    "id": "ALOPph7Vpo72"
   },
   "source": [
    "import numpy as np\n",
    "\n",
    "class LogisticRegression:\n",
    "    def __init__(self, *, reg_param=1.0, lr=0.01, max_iter=100):\n",
    "        self._a  = reg_param\n",
    "        self._lr = lr\n",
    "        self._max_iter = max_iter\n",
    "        self._feat_count = 0\n",
    "        self._weights = None\n",
    "        self._bias = 0\n",
    "\n",
    "    def fit(self, feats, labels):\n",
    "        if feats.ndim == 1:\n",
    "            feats = feats[np.newaxis, :]\n",
    "\n",
    "        if self._weights is None:\n",
    "            self._feat_count = feats.shape[1]\n",
    "            self._weights = np.zeros(self._feat_count)\n",
    "        elif self._feat_count != feats.shape[1]:\n",
    "            err = f\"Feature count does not match previous count {self._feat_count}\"\n",
    "            raise ValueError(err)\n",
    "\n",
    "        costs      = np.zeros((self._max_iter))\n",
    "        precisions = np.zeros((self._max_iter))\n",
    "        recalls    = np.zeros((self._max_iter))\n",
    "\n",
    "        for i in range(self._max_iter):\n",
    "            pred = self._predict(feats)\n",
    "\n",
    "            costs[i] = self._cost(pred, labels)\n",
    "            precisions[i] = precision(pred.round().astype(int), labels)\n",
    "            recalls[i] = recall(pred.round().astype(int), labels)\n",
    "\n",
    "            dw, db = self._gradient(feats, pred, labels)\n",
    "            self._weights -= dw * self._lr\n",
    "            self._bias    -= db * self._lr\n",
    "        \n",
    "        return {\n",
    "            \"cost\": costs,\n",
    "            \"precision\": precisions,\n",
    "            \"recall\": recalls,\n",
    "            \"max_iter\": self._max_iter,\n",
    "        }\n",
    "\n",
    "    def predict(self, X):\n",
    "        return self._predict(X).round()\n",
    "\n",
    "    def _predict(self, feats):\n",
    "        weights = self._weights\n",
    "        bias    = self._bias\n",
    "        return self._sigmoid( np.dot(feats, weights) + bias )\n",
    "\n",
    "    def _sigmoid(self, weighted_feats):\n",
    "        return 1 / (1 + np.exp(-weighted_feats))\n",
    "\n",
    "    def _gradient(self, feats, p, labels):\n",
    "        sample_count = len(labels)\n",
    "        norm_coef = self._a\n",
    "\n",
    "        dw = np.dot(feats.T, p - labels) / sample_count + norm_coef * self._weights\n",
    "\n",
    "        coef = np.mean(p - labels)\n",
    "        db = coef + norm_coef * self._bias\n",
    "\n",
    "        return (dw, db)\n",
    "    \n",
    "    def _cost(self, preds, labels):\n",
    "        return -1 * np.mean( \n",
    "            np.multiply(labels, np.log(preds)) \\\n",
    "            + np.multiply(1 - labels, np.log(1 - preds))\n",
    "        )        "
   ],
   "execution_count": null,
   "outputs": []
  },
  {
   "cell_type": "markdown",
   "metadata": {
    "id": "HXDlL7vtpUdo"
   },
   "source": [
    "## Обучение"
   ]
  },
  {
   "cell_type": "markdown",
   "metadata": {
    "id": "ViAsAl84g36P"
   },
   "source": [
    "Разделение данных на обучающую и тренеровочную выборку (данные заранее \n",
    "нормализуются):"
   ]
  },
  {
   "cell_type": "code",
   "metadata": {
    "id": "1Ws8EGEbXgel"
   },
   "source": [
    "from sklearn.model_selection import train_test_split\n",
    "\n",
    "\n",
    "y = wines['quality']\n",
    "X = wines.drop(columns=['quality'])\n",
    "\n",
    "from sklearn.preprocessing import StandardScaler\n",
    "ss = StandardScaler()\n",
    "\n",
    "X_train, X_test, y_train, y_test = train_test_split(\n",
    "    ss.fit_transform(X), y, \n",
    "    test_size=0.3, random_state=10\n",
    ")"
   ],
   "execution_count": null,
   "outputs": []
  },
  {
   "cell_type": "markdown",
   "metadata": {
    "id": "1TFuYgGeI_dW"
   },
   "source": [
    "Далее обучение модели. Так как обучение происходит обычным градиентым спуском,\n",
    "то нужно задать побольше итераций."
   ]
  },
  {
   "cell_type": "code",
   "metadata": {
    "colab": {
     "base_uri": "https://localhost:8080/",
     "height": 301
    },
    "id": "gQ4pKdyZXger",
    "executionInfo": {
     "status": "ok",
     "timestamp": 1635949616226,
     "user_tz": -180,
     "elapsed": 1455,
     "user": {
      "displayName": "Александр Ефимов",
      "photoUrl": "https://lh3.googleusercontent.com/a-/AOh14GiYxzNH9cS4CN3d8zvmdypKPc3dEUQqfVzCx-1Jkw=s64",
      "userId": "06033327314451293349"
     }
    },
    "outputId": "77900044-f47b-4365-ddef-636c75a28ab7"
   },
   "source": [
    "custom_model = LogisticRegression(max_iter=200)\n",
    "graphs = custom_model.fit(X_train, y_train)\n",
    "\n",
    "plt.plot(graphs[\"cost\"],                      label=\"Cost\")\n",
    "plt.plot(graphs[\"precision\"], linestyle='--', label=\"Precision\")\n",
    "plt.plot(graphs[\"recall\"],    linestyle='--', label=\"Recall\")\n",
    "plt.grid()\n",
    "plt.legend()\n",
    "\n",
    "preds = custom_model.predict(X_test).astype(int)\n",
    "\n",
    "print(\"Final precision:\", precision(preds, y_test))\n",
    "print(\"Final recall:\", recall(preds, y_test))"
   ],
   "execution_count": null,
   "outputs": []
  },
  {
   "cell_type": "markdown",
   "metadata": {
    "id": "QF-RI9MdJc3T"
   },
   "source": [
    "На графике видно, что модель обучилась до точности $70\\%$ уже за одну итерацию,\n",
    "после чего она стала медленно дообучаться."
   ]
  },
  {
   "cell_type": "markdown",
   "metadata": {
    "id": "Oi7Eli3CKCCn"
   },
   "source": [
    "Для сравнения, точность на `LogisticRegression` от `sklearn`"
   ]
  },
  {
   "cell_type": "code",
   "metadata": {
    "colab": {
     "base_uri": "https://localhost:8080/"
    },
    "id": "qV89ycma-VKn",
    "executionInfo": {
     "status": "ok",
     "timestamp": 1635949638344,
     "user_tz": -180,
     "elapsed": 325,
     "user": {
      "displayName": "Александр Ефимов",
      "photoUrl": "https://lh3.googleusercontent.com/a-/AOh14GiYxzNH9cS4CN3d8zvmdypKPc3dEUQqfVzCx-1Jkw=s64",
      "userId": "06033327314451293349"
     }
    },
    "outputId": "42851434-884b-4f44-c448-9db743162c84"
   },
   "source": [
    "from sklearn import linear_model\n",
    "\n",
    "sklearn_model = linear_model.LogisticRegression()\n",
    "\n",
    "sklearn_model.fit(X_train, y_train)\n",
    "\n",
    "preds = sklearn_model.predict(X_test).astype(int)\n",
    "\n",
    "print(\"Final precision:\", precision(preds, y_test))\n",
    "print(\"Final recall:\", recall(preds, y_test))"
   ],
   "execution_count": null,
   "outputs": []
  }
 ]
}